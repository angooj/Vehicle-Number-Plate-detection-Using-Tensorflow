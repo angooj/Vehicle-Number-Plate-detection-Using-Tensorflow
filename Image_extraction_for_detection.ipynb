{
 "cells": [
  {
   "cell_type": "markdown",
   "metadata": {},
   "source": [
    "# Image_extraction_for_detection"
   ]
  },
  {
   "cell_type": "code",
   "execution_count": null,
   "metadata": {},
   "outputs": [],
   "source": [
    "import numpy as np # linear algebra and array\n",
    "\n",
    "import pandas as pd # data processing, JSON file I/O\n",
    "import urllib\n",
    "import requests # data from url \n",
    "import json\n",
    "import random\n",
    "\n",
    "from PIL import Image\n",
    "import matplotlib.pyplot as plt # plotting the image \n",
    "import cv2\n",
    "\n",
    "import pickle # Save the data locally\n",
    "import io "
   ]
  },
  {
   "cell_type": "code",
   "execution_count": null,
   "metadata": {},
   "outputs": [],
   "source": [
    "# Read the data \n",
    "data = pd.read_json('Indian_Number_plates.json', lines=True)\n",
    "pd.set_option('display.max_colwidth', -1)\n",
    "\n",
    "# Data Preprocessing\n",
    "# Delete the empty column\n",
    "del data['extras']\n",
    "\n",
    "# Extract the Box of number plate via points provided\n",
    "data['points'] = data.apply(lambda row: row['annotation'][0]['points'], axis=1)\n",
    "\n",
    "# Data cleaning\n",
    "# And drop the rest of the annotation info\n",
    "del data['annotation']"
   ]
  },
  {
   "cell_type": "code",
   "execution_count": null,
   "metadata": {},
   "outputs": [],
   "source": [
    "Images = []\n",
    "Plates = []\n",
    "\n",
    "def downloadTraining(df):\n",
    "\n",
    "    for index, row in df.iterrows():\n",
    "\n",
    "        # Get the image from the URL\n",
    "        # URL is the first \"content\" in a line\n",
    "        resp = urllib.request.urlopen(row[0])\n",
    "        im = np.array(Image.open(resp))\n",
    "\n",
    "        # We append the image to the training input array\n",
    "        Images.append(im)  \n",
    "\n",
    "        # Points of Number plate Boundary \n",
    "        # Multiplying given points with height and width to get the actual co-ordinates\n",
    "        x_point_top = row[1][0]['x']*im.shape[1]\n",
    "        y_point_top = row[1][0]['y']*im.shape[0]\n",
    "        x_point_bot = row[1][1]['x']*im.shape[1]\n",
    "        y_point_bot = row[1][1]['y']*im.shape[0]\n",
    "\n",
    "        # Cut the plate from the image and keep it seperately\n",
    "        completeImage = Image.fromarray(im)\n",
    "        plateImage = completeImage.crop((x_point_top, y_point_top, x_point_bot, y_point_bot))\n",
    "        Plates.append(np.array(plateImage))\n",
    "\n",
    "downloadTraining(data)"
   ]
  },
  {
   "cell_type": "code",
   "execution_count": null,
   "metadata": {},
   "outputs": [],
   "source": [
    "# Using pickle to store the python list locally so that extracting images from url is not required again\n",
    "# Python lists of car and number plate saved in list\n",
    "print(\"Data Loading...Wait\")\n",
    "with open('Images_array_train', 'wb') as f:\n",
    "    pickle.dump(Images, f)\n",
    "with open('Plates_array_train', 'wb') as f:\n",
    "    pickle.dump(Plates, f)  \n",
    "\n",
    "print(\"Data Saved\")"
   ]
  },
  {
   "cell_type": "code",
   "execution_count": null,
   "metadata": {},
   "outputs": [],
   "source": [
    "# The Locally saved python list can be accesed easily for images\n",
    "with open('Images_array_train', 'rb') as f:\n",
    "    mylist1 = pickle.load(f)\n",
    "\n",
    "with open('Plates_array_train', 'rb') as f:\n",
    "    mylist2 = pickle.load(f)\n",
    "\n",
    "# Create figure and axes\n",
    "fig, ax = plt.subplots(2, 1, constrained_layout=True)\n",
    "\n",
    "# Set title\n",
    "ax[0].set_title('Input Image')\n",
    "ax[1].set_title('Output Image')\n",
    "\n",
    "# Display the images\n",
    "# Car\n",
    "tt=random.randint(0, 235)\n",
    "ax[0].imshow(mylist1[tt])\n",
    "# Number plate\n",
    "ax[1].imshow(mylist2[tt])\n",
    "\n",
    "plt.show()"
   ]
  }
 ],
 "metadata": {
  "kernelspec": {
   "display_name": "Python 3",
   "language": "python",
   "name": "python3"
  },
  "language_info": {
   "codemirror_mode": {
    "name": "ipython",
    "version": 3
   },
   "file_extension": ".py",
   "mimetype": "text/x-python",
   "name": "python",
   "nbconvert_exporter": "python",
   "pygments_lexer": "ipython3",
   "version": "3.7.4"
  }
 },
 "nbformat": 4,
 "nbformat_minor": 2
}
